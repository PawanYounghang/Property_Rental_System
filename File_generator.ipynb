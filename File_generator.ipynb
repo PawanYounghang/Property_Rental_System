{
 "cells": [
  {
   "cell_type": "code",
   "execution_count": 6,
   "id": "48690bf9-062d-4312-9330-849db009dc64",
   "metadata": {},
   "outputs": [],
   "source": [
    "import csv \n",
    "import random \n",
    "\n",
    "file = open('land.csv','w',newline='') \n",
    "x = csv.writer(file)\n",
    "x.writerow(['Kitta no','City/District','Facing','Anna','Price','Availability'])\n",
    "\n",
    "\n",
    "def generate_unique_random():\n",
    "    used_number = set()\n",
    "    while True:\n",
    "        i = random.randint(100,999)\n",
    "        if i not in used_number:\n",
    "            used_number.add(i)\n",
    "            return i\n",
    "\n",
    "n = 250\n",
    "\n",
    "for i in range(n):\n",
    "    kittano = generate_unique_random()\n",
    "    city = random.choice(['Pokhara','kathmandu','Biratnagar','Itahari','Dang','Lalitpur','Hetauda','Birgunj','Banepa'])\n",
    "    direction = random.choice(['North','East','South','West'])\n",
    "    anna = random.randint(4,16)\n",
    "    price = random.randint(25,120)*1000\n",
    "    availability = random.choice(['yes','no'])\n",
    "    x.writerow([kittano,city,direction,anna,price,availability])\n",
    "    \n",
    "    \n",
    "file.close()"
   ]
  },
  {
   "cell_type": "code",
   "execution_count": 7,
   "id": "95a6fcec",
   "metadata": {},
   "outputs": [],
   "source": [
    "import csv\n",
    "\n",
    "def csv_to_text(csv_file, text_file):\n",
    "    with open(csv_file, 'r', newline='') as csv_file:\n",
    "        csv_reader = csv.reader(csv_file)\n",
    "        with open(text_file, 'w') as text_file:\n",
    "            for row in csv_reader:\n",
    "                # Join the CSV row elements into a single string separated by spaces\n",
    "                line = ','.join(row)\n",
    "                # Write the line to the text file\n",
    "                text_file.write(line + '\\n')\n",
    "\n",
    "# Convert CSV to text\n",
    "csv_to_text('land.csv', 'land.txt')\n",
    "\n",
    "    "
   ]
  },
  {
   "cell_type": "code",
   "execution_count": null,
   "id": "3dcd0d7f",
   "metadata": {},
   "outputs": [],
   "source": []
  }
 ],
 "metadata": {
  "kernelspec": {
   "display_name": "Python 3 (ipykernel)",
   "language": "python",
   "name": "python3"
  },
  "language_info": {
   "codemirror_mode": {
    "name": "ipython",
    "version": 3
   },
   "file_extension": ".py",
   "mimetype": "text/x-python",
   "name": "python",
   "nbconvert_exporter": "python",
   "pygments_lexer": "ipython3",
   "version": "3.11.7"
  }
 },
 "nbformat": 4,
 "nbformat_minor": 5
}
